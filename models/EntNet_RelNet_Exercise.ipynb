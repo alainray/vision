{
  "nbformat": 4,
  "nbformat_minor": 0,
  "metadata": {
    "colab": {
      "name": "EntNet - RelNet - Exercise",
      "version": "0.3.2",
      "provenance": [],
      "include_colab_link": true
    },
    "kernelspec": {
      "name": "python2",
      "display_name": "Python 2"
    }
  },
  "cells": [
    {
      "cell_type": "markdown",
      "metadata": {
        "id": "view-in-github",
        "colab_type": "text"
      },
      "source": [
        "<a href=\"https://colab.research.google.com/github/alainray/vision/blob/master/models/EntNet_RelNet_Exercise.ipynb\" target=\"_parent\"><img src=\"https://colab.research.google.com/assets/colab-badge.svg\" alt=\"Open In Colab\"/></a>"
      ]
    },
    {
      "metadata": {
        "id": "4McB1l80WdmM",
        "colab_type": "code",
        "colab": {}
      },
      "cell_type": "code",
      "source": [
        "!pip install torch torchvision"
      ],
      "execution_count": 0,
      "outputs": []
    },
    {
      "metadata": {
        "id": "rOdCC_hLcz0s",
        "colab_type": "text"
      },
      "cell_type": "markdown",
      "source": [
        "## Entity Net\n",
        "\n",
        "\n",
        "Implementation based on \"Tracking the World State with Recurrent Entity Networks\" (Mikael Henaff, Jason Weston, Arthur Szlam, Antoine Bordes, Yann LeCun) https://arxiv.org/abs/1612.03969"
      ]
    },
    {
      "metadata": {
        "id": "a_jfBYwNc0HS",
        "colab_type": "code",
        "colab": {}
      },
      "cell_type": "code",
      "source": [
        "import torch.nn as nn\n",
        "import torch\n",
        "\n",
        "class EntNet(nn.Module):\n",
        "  def __init__(self,nDimensions=100,nMemoryNodes=20,seq_length=70, phi=nn.functional.prelu):\n",
        "    super(EntNet, self).__init__()\n",
        "    self.n_dimensions=nDimensions\n",
        "    self.n_memory_nodes=nMemoryNodes\n",
        "    self.seq_length=seq_length\n",
        "    #Parameter matrices\n",
        "    #Input Transformation\n",
        "    self.F_i=nn.Parameter(torch.randn(self.n_dimensions, self.seq_length, dtype=torch.float))\n",
        "    #Dynamic Memory \n",
        "    self.memory_nodes=torch.randn(self.n_dimensions, self.n_memory_nodes, dtype=torch.float)\n",
        "    self.n_memory_nodes=nMemoryNodes\n",
        "    self.keys=nn.Parameter(torch.randn(self.n_dimensions, self.n_memory_nodes, dtype=torch.float))\n",
        "    self.U=nn.Parameter(torch.randn(self.n_dimensions, self.n_dimensions, dtype=torch.float))\n",
        "    self.V=nn.Parameter(torch.randn(self.n_dimensions, self.n_dimensions, dtype=torch.float))\n",
        "    self.W=nn.Parameter(torch.randn(self.n_dimensions, self.n_dimensions, dtype=torch.float))\n",
        "    self.g=torch.randn(1, self.n_memory_nodes, dtype=torch.float)\n",
        "    #Output Transformation\n",
        "    self.F_q=nn.Parameter(torch.randn(self.n_dimensions, self.seq_length, dtype=torch.float))\n",
        "    self.R=nn.Parameter(torch.randn(self.n_dimensions, self.n_dimensions, dtype=torch.float))\n",
        "    self.H=nn.Parameter(torch.randn(self.n_dimensions, self.n_dimensions, dtype=torch.float))\n",
        "    #Phi function\n",
        "    self.phi=phi\n",
        "    #prelu\n",
        "    self.activation_parameter_mem=nn.Parameter(torch.randn(1,dtype=torch.float))\n",
        "    self.activation_parameter_out=nn.Parameter(torch.randn(1,dtype=torch.float))\n",
        "\n",
        "  \n",
        "  def forward(self,input,query,memory=None):\n",
        "    input=self.input_step(input,self.F_i)\n",
        "    query=self.input_step(query,self.F_q)\n",
        "    self.memory_nodes=self.memory_step(input)\n",
        "    \n",
        "    return self.output_step(query)\n",
        "  \n",
        "  def input_step(self, input, param):\n",
        "    #Embedding of input vectors is assumed to be of size n_dimensions\n",
        "    #Input to the EntNet is a sentence, always assumed to be of size 'seq_length'\n",
        "    #If shorter, we pad with zero-vectors\n",
        "    #If longer, we will ignore\n",
        "    s=torch.zeros(1,self.n_dimensions,dtype=torch.float)\n",
        "    length=len(input[0])\n",
        "    for i, vector in enumerate(param.transpose(0,1)):\n",
        "      if length > i: \n",
        "        s=s+vector*input[:,i] \n",
        "      else: \n",
        "        break\n",
        "   \n",
        "    return s.transpose(0,1)\n",
        "  \n",
        "  def memory_step(self, input):\n",
        "    self.g=torch.sigmoid(torch.mm(input.transpose(0,1),self.memory_nodes)+torch.mm(input.transpose(0,1),self.keys))\n",
        "    candidate_mem=torch.mm(self.U,self.memory_nodes)+torch.mm(self.V,self.keys)+torch.mm(self.W,input)\n",
        "    candidate_mem=self.phi(candidate_mem,self.activation_parameter_mem)\n",
        "    new_memory=torch.zeros(self.n_dimensions, self.n_memory_nodes, dtype=torch.float)\n",
        "    for i,x in enumerate(self.g[0]):\n",
        "      value=torch.mul(self.memory_nodes[:,i].clone(),(1+x))\n",
        "      new_memory[:,i]=value\n",
        "    return nn.functional.normalize(new_memory, p=2, dim=0)\n",
        "    \n",
        "  def output_step(self,query):\n",
        "    p=torch.mm(query.transpose(0,1), self.memory_nodes)\n",
        "    p=nn.functional.softmax(p,dim=1)\n",
        "    u=torch.zeros(1,self.n_dimensions,dtype=torch.float)\n",
        "    for e,p_i in enumerate(p[0]):\n",
        "      u=u+p_i*self.memory_nodes[:,e]\n",
        "    \n",
        "    y=torch.mm(self.R,self.phi(query+torch.mm(self.H,u.transpose(0,1)),self.activation_parameter_out))\n",
        "    \n",
        "    return y\n",
        "  def wipe_memory(self):\n",
        "    self.memory_nodes=self.keys.clone()\n"
      ],
      "execution_count": 0,
      "outputs": []
    },
    {
      "metadata": {
        "id": "cT_Xodqyc4R1",
        "colab_type": "text"
      },
      "cell_type": "markdown",
      "source": [
        "## RelNet\n",
        "\n",
        "Implementation based on RelNet: End-to-End Modeling of Entities & Relations (Trapit Bansal, Arvind Neelakantan, Andrew McCallum) https://arxiv.org/abs/1706.07179"
      ]
    },
    {
      "metadata": {
        "id": "KuNgrkSK4wE7",
        "colab_type": "code",
        "colab": {}
      },
      "cell_type": "code",
      "source": [
        "import torch.nn as nn\n",
        "import torch\n",
        "\n",
        "class RelNet(EntNet):\n",
        "    def __init__(self,\n",
        "                 nDimensions=100,\n",
        "                 nMemoryNodes=20,\n",
        "                 seq_length=70,\n",
        "                 phi=nn.functional.prelu):\n",
        "        EntNet.__init__(self,nDimensions,nMemoryNodes,seq_length,phi)        \n",
        "        #Relational Memory\n",
        "        self.activation_parameter_rel_mem = nn.Parameter(\n",
        "            torch.randn(1, dtype=torch.float))\n",
        "        self.relational_memory = torch.randn(\n",
        "            self.n_memory_nodes,\n",
        "            self.n_memory_nodes,\n",
        "            self.n_dimensions,\n",
        "            1,\n",
        "            dtype=torch.float)\n",
        "        self.A = nn.Parameter(\n",
        "            torch.randn(\n",
        "                self.n_dimensions, self.n_dimensions, dtype=torch.float))\n",
        "        self.B = nn.Parameter(\n",
        "            torch.randn(\n",
        "                self.n_dimensions, self.n_dimensions, dtype=torch.float))\n",
        "        self.C = nn.Parameter(\n",
        "            torch.randn(\n",
        "                self.n_dimensions, 3 * self.n_dimensions, dtype=torch.float))\n",
        "\n",
        "    def forward(self, input, query):\n",
        "\n",
        "        input = self.input_step(input, self.F_i)\n",
        "        query = self.input_step(query, self.F_q)\n",
        "        self.memory_step(input)\n",
        "        self.relational_step(input)\n",
        "\n",
        "        return self.output_step(query)\n",
        "\n",
        "    def relational_step(self, input):\n",
        "        g_r = torch.zeros(\n",
        "            self.n_memory_nodes,\n",
        "            self.n_memory_nodes,\n",
        "            self.n_dimensions,\n",
        "            1,\n",
        "            dtype=torch.float)\n",
        "        new_input = input.transpose(0, 1)\n",
        "\n",
        "        for i in range(0, self.n_memory_nodes):\n",
        "            for j in range(0, self.n_memory_nodes):\n",
        "                g_r[i][j] = self.g[0][i] * self.g[0][j] * torch.sigmoid(\n",
        "                    torch.mm(new_input, self.relational_memory[i][j]))\n",
        "\n",
        "        temp_input = torch.mm(self.B, input)\n",
        "        candidate_mem = torch.randn(\n",
        "            self.n_memory_nodes,\n",
        "            self.n_memory_nodes,\n",
        "            self.n_dimensions,\n",
        "            1,\n",
        "            dtype=torch.float)\n",
        "\n",
        "        for i in range(0, self.n_memory_nodes):\n",
        "            for j in range(0, self.n_memory_nodes):\n",
        "                value = torch.mm(self.A,\n",
        "                                 self.relational_memory[i][j]) + temp_input\n",
        "                candidate_mem[i][j] = value\n",
        "\n",
        "        candidate_mem = self.phi(candidate_mem,\n",
        "                                 self.activation_parameter_rel_mem)\n",
        "        new_relational_memory=torch.randn(\n",
        "            self.n_memory_nodes,\n",
        "            self.n_memory_nodes,\n",
        "            self.n_dimensions,\n",
        "            1,\n",
        "            dtype=torch.float)\n",
        "        for i in range(0, self.n_memory_nodes):\n",
        "            for j in range(0, self.n_memory_nodes):\n",
        "                new_relational_memory[i][j] =self.relational_memory[i][j]+ g_r[i][j] * candidate_mem[i][j]\n",
        "\n",
        "        self.relational_memory = nn.functional.normalize(\n",
        "            new_relational_memory, p=2, dim=2)\n",
        "\n",
        "    def output_step(self, query):\n",
        "        candidate_output = torch.zeros(\n",
        "            self.n_memory_nodes,\n",
        "            self.n_memory_nodes,\n",
        "            self.n_dimensions,\n",
        "            1,\n",
        "            dtype=torch.float)\n",
        "        p_ij = torch.zeros(\n",
        "            self.n_memory_nodes, self.n_memory_nodes, 1, dtype=torch.float)\n",
        "        \n",
        "        for i in range(0, self.n_memory_nodes):\n",
        "            for j in range(0, self.n_memory_nodes):\n",
        "                mem_temp = torch.cat(\n",
        "                    (self.memory_nodes[:, i], self.memory_nodes[:, j],\n",
        "                     self.relational_memory[i][j].view(self.n_dimensions)), 0)\n",
        "                candidate_output[i][j] = torch.mm(self.C,\n",
        "                                                  mem_temp.view(\n",
        "                                                      3 * self.n_dimensions,\n",
        "                                                      1))\n",
        "        for i in range(0, self.n_memory_nodes):\n",
        "          for j in range(0, self.n_memory_nodes):       \n",
        "            p_ij[i][j] = torch.mm(\n",
        "            query.transpose(0, 1), candidate_output[i][j])\n",
        "\n",
        "        new_p_ij = nn.functional.softmax(\n",
        "            p_ij.view(self.n_memory_nodes * self.n_memory_nodes), dim=0).view(\n",
        "                self.n_memory_nodes, self.n_memory_nodes, 1)\n",
        "\n",
        "        u = torch.zeros(self.n_dimensions, 1, dtype=torch.float)\n",
        "\n",
        "        for i in range(0, self.n_memory_nodes):\n",
        "            for j in range(0, self.n_memory_nodes):\n",
        "                u = u + new_p_ij[i][j] * candidate_output[i][j]\n",
        "        y = torch.mm(self.R,\n",
        "                     self.phi(query + torch.mm(self.H, u),\n",
        "                              self.activation_parameter_out))\n",
        "        return y\n",
        "      \n",
        "    def wipe_memory(self):\n",
        "      self.memory_nodes=self.keys.clone()\n",
        "      self.relational_memory = torch.randn(\n",
        "            self.n_memory_nodes,\n",
        "            self.n_memory_nodes,\n",
        "            self.n_dimensions,\n",
        "            1,\n",
        "            dtype=torch.float)\n",
        "      #This is probably incorrect, I'll just\n",
        "      #do an interpolation of the related key values\n",
        "      for i in range(0, self.n_memory_nodes):\n",
        "        for j in range(0, self.n_memory_nodes):\n",
        "          #self.relational_memory[i][j]=(self.keys[:,i].view(self.n_dimensions,1))\n",
        "          self.relational_memory[i][j]=(self.keys[:,i].view(self.n_dimensions,1)+self.keys[:,j].view(self.n_dimensions,1))/2\n",
        "            \n"
      ],
      "execution_count": 0,
      "outputs": []
    },
    {
      "metadata": {
        "id": "ZSpbbI84uyXd",
        "colab_type": "code",
        "colab": {}
      },
      "cell_type": "code",
      "source": [
        "import torch.optim as opt\n",
        "import time\n",
        "def runModel(model,nEpochs,input_data,output_data,query_data,n_print=5):\n",
        "  n_print=1 #How many epochs until we write an update for the MSE\n",
        "\n",
        "  errors=list()\n",
        "  x=list()\n",
        "  print(\"Running Model: {}\".format(model.__class__.__name__))\n",
        "  optimizer = opt.Adam(model.parameters(), lr=0.1)\n",
        "  loss=nn.MSELoss()\n",
        "  for epoch in range(nEpochs):\n",
        "    running_loss = 0.0\n",
        "    \n",
        "    for i,sample in enumerate(input_data):\n",
        "      model.zero_grad()\n",
        "      \n",
        "      model.wipe_memory()\n",
        "      \n",
        "      \n",
        "      for j,data in enumerate(sample):\n",
        "        output=model(data, query_data[i])\n",
        "      \n",
        "      result=loss(output,output_data[i])\n",
        "\n",
        "      result.backward()\n",
        "   \n",
        "      optimizer.step()\n",
        "\n",
        "      running_loss += result.item()\n",
        "   \n",
        "    error=running_loss/n_samples\n",
        "    errors.append(error)\n",
        "    if  epoch % n_print == 0:\n",
        "      print(\"Average MSE: {} for Epoch {}\".format(error,epoch+1))\n",
        "  return model, errors #For plotting purposes"
      ],
      "execution_count": 0,
      "outputs": []
    },
    {
      "metadata": {
        "id": "E9gjQ-1Nxdkp",
        "colab_type": "code",
        "colab": {}
      },
      "cell_type": "code",
      "source": [
        "dims=50 #How many dimensions we use to encode our vectors\n",
        "nodes=5 #The amount of memory nodes\n",
        "seq_length=60 #The max amount of words per sentence\n",
        "n_samples=20 #How many training examples to generate\n",
        "n_sentences=10  #How many sentences per training example\n",
        "input_data=torch.randn(n_samples,n_sentences,dims,seq_length, dtype=torch.float) #Random input\n",
        "output_data=torch.randn(n_samples,dims,1, dtype=torch.float) #Random output\n",
        "query_data=torch.randn(n_samples,dims,1, dtype=torch.float) #Random Query "
      ],
      "execution_count": 0,
      "outputs": []
    },
    {
      "metadata": {
        "id": "C-RdZ2075M7C",
        "colab_type": "code",
        "colab": {
          "base_uri": "https://localhost:8080/",
          "height": 306
        },
        "outputId": "485b2043-56f0-49e9-ad9a-87e9add564f3"
      },
      "cell_type": "code",
      "source": [
        "entnet = EntNet(nDimensions=dims,nMemoryNodes=nodes,seq_length=seq_length)\n",
        "relnet= RelNet(nDimensions=dims,nMemoryNodes=nodes,seq_length=seq_length)\n",
        "\n",
        "entnet, errors1=runModel(entnet,10,input_data,output_data,query_data)\n",
        "relnet, errors2=runModel(relnet,5,input_data,output_data,query_data)\n",
        "\n",
        "path_entnet='entnet_{}_{}_{}.pth'.format(dims,nodes,seq_length)\n",
        "path_relnet='relnet_{}_{}_{}.pth'.format(dims,nodes,seq_length)\n",
        "\n",
        "#torch.save(entnet.state_dict(),path_entnet)\n",
        "torch.save(relnet.state_dict(),path_relnet)"
      ],
      "execution_count": 205,
      "outputs": [
        {
          "output_type": "stream",
          "text": [
            "Running Model: EntNet\n",
            "Average MSE: 11.6753251076 for Epoch 1\n",
            "Average MSE: 1.12120084167 for Epoch 2\n",
            "Average MSE: 1.04656217098 for Epoch 3\n",
            "Average MSE: 1.00454623997 for Epoch 4\n",
            "Average MSE: 1.0586976707 for Epoch 5\n",
            "Average MSE: 1.01676233709 for Epoch 6\n",
            "Average MSE: 0.950171688199 for Epoch 7\n",
            "Average MSE: 0.947886255383 for Epoch 8\n",
            "Average MSE: 0.948726722598 for Epoch 9\n",
            "Average MSE: 1.03073354065 for Epoch 10\n",
            "Running Model: RelNet\n",
            "Average MSE: 223891.681055 for Epoch 1\n",
            "Average MSE: 28018.8349365 for Epoch 2\n",
            "Average MSE: 3829.09669132 for Epoch 3\n",
            "Average MSE: 178.40894472 for Epoch 4\n",
            "Average MSE: 14.1005173415 for Epoch 5\n"
          ],
          "name": "stdout"
        }
      ]
    },
    {
      "metadata": {
        "id": "s7ESZBwezdly",
        "colab_type": "code",
        "colab": {
          "base_uri": "https://localhost:8080/",
          "height": 364
        },
        "outputId": "59420a50-e065-4260-9230-068955bc4858"
      },
      "cell_type": "code",
      "source": [
        "import matplotlib.pyplot as plt\n",
        "plt.plot(errors2)\n"
      ],
      "execution_count": 207,
      "outputs": [
        {
          "output_type": "execute_result",
          "data": {
            "text/plain": [
              "[<matplotlib.lines.Line2D at 0x7f5e5c87d390>]"
            ]
          },
          "metadata": {
            "tags": []
          },
          "execution_count": 207
        },
        {
          "output_type": "display_data",
          "data": {
            "image/png": "[encoded data removed]",
            "text/plain": [
              "<matplotlib.figure.Figure at 0x7f5e5fa3d790>"
            ]
          },
          "metadata": {
            "tags": []
          }
        }
      ]
    },
    {
      "metadata": {
        "id": "KWK8QRkotbsL",
        "colab_type": "code",
        "colab": {}
      },
      "cell_type": "code",
      "source": [
        "#Loading Saved Model\n",
        "new_model=EntNet(nDimensions=dims,nMemoryNodes=nodes,seq_length=seq_length)\n",
        "new_model.load_state_dict(torch.load(path_entnet))\n",
        "print(new_model.state_dict())"
      ],
      "execution_count": 0,
      "outputs": []
    }
  ]
}